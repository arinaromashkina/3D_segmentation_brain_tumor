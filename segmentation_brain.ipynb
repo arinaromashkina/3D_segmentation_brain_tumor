{
 "cells": [
  {
   "cell_type": "markdown",
   "id": "f00f46cb",
   "metadata": {},
   "source": [
    "# 3d segmentation for http://medicaldecathlon.com/ data"
   ]
  },
  {
   "cell_type": "markdown",
   "id": "d45e2ddc",
   "metadata": {},
   "source": [
    "# Brain Tumor  3D"
   ]
  },
  {
   "cell_type": "code",
   "execution_count": null,
   "id": "b63c1af7",
   "metadata": {},
   "outputs": [],
   "source": []
  }
 ],
 "metadata": {
  "kernelspec": {
   "display_name": "Python 3 (ipykernel)",
   "language": "python",
   "name": "python3"
  },
  "language_info": {
   "codemirror_mode": {
    "name": "ipython",
    "version": 3
   },
   "file_extension": ".py",
   "mimetype": "text/x-python",
   "name": "python",
   "nbconvert_exporter": "python",
   "pygments_lexer": "ipython3",
   "version": "3.10.7"
  }
 },
 "nbformat": 4,
 "nbformat_minor": 5
}
